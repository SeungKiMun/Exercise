{
 "cells": [
  {
   "cell_type": "markdown",
   "metadata": {},
   "source": [
    "# Exercise 82:  Taxi Fare\n",
    "In a particular jurisdiction, taxi fares consist of a base fare of $4.00, plus $0.25 for every 140 meters traveled. Write a function that takes the distance traveled (in kilometers) as its only parameter and returns the total fare as its only result. Write a main program that demonstrates the function.\n",
    "\n",
    "Hint: Taxi fares change over time. Use constants to represent the base fare and the variable portion of the fare so that the program can be updated easily when the rates increase."
   ]
  },
  {
   "cell_type": "code",
   "execution_count": 22,
   "metadata": {},
   "outputs": [
    {
     "name": "stdout",
     "output_type": "stream",
     "text": [
      "281\n",
      "4.5\n"
     ]
    }
   ],
   "source": [
    "l1 = []\n",
    "a = input()\n",
    "b = int(a)\n",
    "basic_fare = 4.00\n",
    "result_fare = 0.00\n",
    "def fare(meter):\n",
    "    if(meter < 140):\n",
    "        return 0.00\n",
    "    else:\n",
    "        return int(meter/140)*0.25\n",
    "    \n",
    "result_fare = basic_fare +fare(b)\n",
    "print(result_fare)"
   ]
  },
  {
   "cell_type": "markdown",
   "metadata": {},
   "source": [
    "# Exercise 84: Median of Three values\n",
    "Write a function that takes three numbers as parameters, and returns the median value of those parameters as its result. Include a main program that reads three values from the user and displays their median.\n",
    "\n",
    "Hint: The median value is the middle of the three values when they are sorted into ascending order. It can be found using if statements, or with a little bit of mathematical creativity."
   ]
  },
  {
   "cell_type": "code",
   "execution_count": 28,
   "metadata": {},
   "outputs": [
    {
     "name": "stdout",
     "output_type": "stream",
     "text": [
      "14\n",
      "9\n",
      "88\n",
      "14\n"
     ]
    }
   ],
   "source": [
    "a = input()\n",
    "b = input()\n",
    "c = input()\n",
    "a1 = int(a)\n",
    "a2 = int(b)\n",
    "a3 = int(c)\n",
    "\n",
    "def compare(a,b,c):\n",
    "    if(a>b and b>c): #cba\n",
    "        return b\n",
    "    if(a<b and b<c): #abc\n",
    "        return b \n",
    "    if(b<a and b<c and a<c): #bac\n",
    "        return  a\n",
    "    if(b<a and b<c and a>c): #bca\n",
    "        return c\n",
    "    if(b>c and b>a and a>c): #cab\n",
    "        return a\n",
    "    if(b>c and b>a and c>a): #acb\n",
    "        return c\n",
    "print(compare(a1,a2,a3))"
   ]
  },
  {
   "cell_type": "markdown",
   "metadata": {},
   "source": [
    "# Exercise 85: Convert an Integer to its Ordinal Number \n",
    "\n",
    "(47 Lines) \n",
    "Words like ﬁrst, second and third are referred to as ordinal numbers. In this exercise, you will write a function that takes an integer as its only parameter and returns a string containing the appropriate English ordinal number as its only result. Your function must handle the integers between 1 and 12 (inclusive). It should return an empty string if a value outside of this range is provided as a parameter. Include a main program that demonstrates your function by displaying each integer from 1 to 12 and its ordinal number. Your main program should only run when your ﬁle has not been imported into another program. "
   ]
  },
  {
   "cell_type": "code",
   "execution_count": 50,
   "metadata": {},
   "outputs": [
    {
     "name": "stdout",
     "output_type": "stream",
     "text": [
      "14\n",
      " \n"
     ]
    }
   ],
   "source": [
    "a =input()\n",
    "b= int(a)\n",
    "\n",
    "def convert_to_ordinalnum(num):\n",
    "    if num == 1:\n",
    "        return 'first'\n",
    "    if num == 2:\n",
    "        return 'second'\n",
    "    if num == 3:\n",
    "        return 'third'\n",
    "    if num == 4:\n",
    "        return 'fourth'\n",
    "    if num == 5:\n",
    "        return 'fifth'\n",
    "    if num == 6:\n",
    "        return 'sixth'\n",
    "    if num == 7:\n",
    "        return 'seventh'\n",
    "    if num == 8:\n",
    "        return 'eightth'\n",
    "    if num == 9:\n",
    "        return 'ninth'\n",
    "    if num == 10:\n",
    "        return 'tenth'\n",
    "    if num == 11:\n",
    "        return 'eleventh'\n",
    "    if num == 12:\n",
    "        return 'twelveth'\n",
    "    if num>12:\n",
    "        return ''\n",
    "    \n",
    "print(\"\",convert_to_ordinalnum(b))"
   ]
  },
  {
   "cell_type": "markdown",
   "metadata": {},
   "source": [
    "# Exercise 88: Is it a Valid Triangle?\n",
    "\n",
    "(33 Lines) \n",
    "If you have 3 straws, possibly of differing lengths, it may or may not be possible to lay them down so that they form a triangle when their ends are touching. For example, if all of the straws have a length of 6 inches. then one can easily construct an equilateral triangle using them. However, if one straw is 6 inches. long, while the other two are each only 2 inches. long, then a triangle cannot be formed. In general, if any one length is greater than or equal to the sum of the other two then the lengths cannot be used to form a triangle. Otherwise they can form a triangle. \n",
    "Write a function that determines whether or not three lengths can form a triangle. The function will take 3 parameters and return a Boolean result. In addition, write a program that reads 3 lengths from the user and demonstrates the behaviour of this function. "
   ]
  },
  {
   "cell_type": "code",
   "execution_count": 71,
   "metadata": {},
   "outputs": [
    {
     "name": "stdout",
     "output_type": "stream",
     "text": [
      "5\n",
      "4\n",
      "3\n",
      " True\n"
     ]
    }
   ],
   "source": [
    "a = int(input())\n",
    "b = int(input())\n",
    "c = int(input())\n",
    "def check_triangle(x,y,z):\n",
    "    if (z<y and y<x) or (y<z and x>z):\n",
    "        if (y+z)<=x:\n",
    "            return False\n",
    "        else:\n",
    "            return True\n",
    "    if (x<z and z<y) or (z<x and x<y):\n",
    "        if (x+z)<=y:\n",
    "            return False\n",
    "        else:\n",
    "            return True\n",
    "    if (x<y and y<z) or (y<x and x<z):\n",
    "        if (x+y)<=z:\n",
    "            return False\n",
    "        else:\n",
    "            return True\n",
    "    if (x==y and x<z):\n",
    "        if (x+y)<=z:\n",
    "            return False\n",
    "        else:\n",
    "            return True\n",
    "    if (x==z and x<y):\n",
    "        if (x+z)<=y:\n",
    "            return False\n",
    "        else:\n",
    "            return True\n",
    "    if (y==z and y<x):\n",
    "        if (y+z)<=x:\n",
    "            return False\n",
    "        else:\n",
    "            return True\n",
    "    if (x==y and y==z):\n",
    "        return True\n",
    "print(\"\",check_triangle(a,b,c))"
   ]
  },
  {
   "cell_type": "markdown",
   "metadata": {},
   "source": [
    "# Exercise 92: Is a Number Prime?\n",
    "(Solved—28 Lines) \n",
    "A prime number is an integer greater than 1 that is only divisible by one and itself. Write a function that determines whether or not its parameter is prime, returning True if it is, and False otherwise. Write a main program that reads an integer from the user and displays a message indicating whether or not it is prime. Ensure that the main program will not run if the ﬁle containing your solution is imported into another program. "
   ]
  },
  {
   "cell_type": "code",
   "execution_count": 36,
   "metadata": {},
   "outputs": [
    {
     "name": "stdout",
     "output_type": "stream",
     "text": [
      "12\n",
      "False\n"
     ]
    }
   ],
   "source": [
    "def primenum(x):\n",
    "    for i in range(2,x):\n",
    "        if x%i == 0:\n",
    "            return False\n",
    "    else:\n",
    "        return True\n",
    "a = int(input())\n",
    "print(primenum(a))"
   ]
  }
 ],
 "metadata": {
  "kernelspec": {
   "display_name": "Python 3",
   "language": "python",
   "name": "python3"
  },
  "language_info": {
   "codemirror_mode": {
    "name": "ipython",
    "version": 3
   },
   "file_extension": ".py",
   "mimetype": "text/x-python",
   "name": "python",
   "nbconvert_exporter": "python",
   "pygments_lexer": "ipython3",
   "version": "3.6.5"
  }
 },
 "nbformat": 4,
 "nbformat_minor": 2
}
