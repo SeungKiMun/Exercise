{
 "cells": [
  {
   "cell_type": "markdown",
   "metadata": {},
   "source": [
    "# Average\n",
    "(26 Lines) \n",
    "In this exercise you will create a program that computes the average of a collection of values entered by the user. The user will enter 0 as a sentinel value to indicate that no further values will be provided. Your program should display an appropriate error message if the ﬁrst value entered by the user is 0. "
   ]
  },
  {
   "cell_type": "code",
   "execution_count": 98,
   "metadata": {},
   "outputs": [
    {
     "name": "stdout",
     "output_type": "stream",
     "text": [
      "123\n",
      "123\n",
      "2\n",
      "0\n",
      "82.66666666666667\n"
     ]
    }
   ],
   "source": [
    "l1 = []\n",
    "result = 0\n",
    "count = 0\n",
    "\n",
    "while True:\n",
    "    a = input()\n",
    "    l1.append(a)\n",
    "    result = result + int(l1[count])\n",
    "    count = count +1\n",
    "    if (int(a) == 0):\n",
    "        print(result/(len(l1)-1))\n",
    "        break\n",
    "\n",
    "        \n",
    "        ############첨부터 0 넣었을때 추가하기"
   ]
  },
  {
   "cell_type": "markdown",
   "metadata": {},
   "source": [
    "# temperature conversion table\n",
    "\n",
    "Write a program that displays a temperature conversion table for degrees Celsius and degrees Fahrenheit. The table should include rows for all temperatures between 0 and 100 degrees Celsius that are multiples of 10 degrees Celsius. Include appropriate headings on your columns. The formula for converting between degrees Celsius and degrees Fahrenheit can be found on the internet."
   ]
  },
  {
   "cell_type": "code",
   "execution_count": 149,
   "metadata": {},
   "outputs": [
    {
     "name": "stdout",
     "output_type": "stream",
     "text": [
      "Celsius Fahrenheit\n",
      " 10 50.0\n",
      " 20 68.0\n",
      " 30 86.0\n",
      " 40 104.0\n",
      " 50 122.0\n",
      " 60 140.0\n",
      " 70 158.0\n",
      " 80 176.0\n",
      " 90 194.0\n",
      " 100 212.0\n"
     ]
    }
   ],
   "source": [
    "print(\"Celsius Fahrenheit\")\n",
    "for i in range(10):\n",
    "    print(\"\",(i+1)*10,(i+1)*10*1.8+32)"
   ]
  },
  {
   "cell_type": "markdown",
   "metadata": {},
   "source": [
    "# compute a grade point average\n",
    "(62 Lines) \n",
    "Exercise 51 included a table that shows the conversion from letter grades to grade points at a particular academic institution. In this exercise you will compute the grade point average of an arbitrary number of letter grades entered by the user. The user will enter a blank line to indicate that all of the grades have been provided. For example, if the user enters A, followed by C+, followed by B, followed by a blank line then your program should report a grade point average of 3.1. \n",
    "You may ﬁnd your solution to Exercise 51 helpful when completing this exercise. Your program does not need to do any error checking. It can assume that each value entered by the user will always be a valid letter grade or a blank line. "
   ]
  },
  {
   "cell_type": "code",
   "execution_count": 117,
   "metadata": {},
   "outputs": [
    {
     "name": "stdout",
     "output_type": "stream",
     "text": [
      "A+\n",
      "A+\n",
      "B+\n",
      "\n",
      "3.766666666666667\n"
     ]
    }
   ],
   "source": [
    "def change(grade):\n",
    "    if(grade == 'A+'):\n",
    "        return 4.0\n",
    "    if(grade == 'A'):\n",
    "        return 4.0\n",
    "    if(grade == 'A-'):\n",
    "        return 3.7\n",
    "    if(grade == 'B+'):\n",
    "        return 3.3\n",
    "    if(grade == 'B'):\n",
    "        return 3.0\n",
    "    if(grade == 'B-'):\n",
    "        return 2.7\n",
    "    if(grade == 'C+'):\n",
    "        return 2.3\n",
    "    if(grade == 'C'):\n",
    "        return 2.0\n",
    "    if(grade == 'C-'):\n",
    "        return 1.7\n",
    "    if(grade == 'D+'):\n",
    "        return 1.3\n",
    "    if(grade == 'D'):\n",
    "        return 1.0\n",
    "    if(grade == 'F'):\n",
    "        return 0.0\n",
    "    if(grade == ''):\n",
    "        return 0.0\n",
    "\n",
    "l1 = []\n",
    "result = 0.0\n",
    "count = 0\n",
    "while True:\n",
    "    a = input()\n",
    "    b = change(a)\n",
    "    l1.append(b)\n",
    "    c= float(l1[count])\n",
    "    result = result + c\n",
    "    count = count +1\n",
    "    \n",
    "    if a =='':\n",
    "        print(result/(len(l1)-1))\n",
    "        break\n",
    "\n",
    "        \n",
    "        \n"
   ]
  },
  {
   "cell_type": "markdown",
   "metadata": {},
   "source": [
    "# Admission Price\n",
    "(Solved—38 Lines) \n",
    "A particular zoo determines the price of admission based on the age of the guest. Guests 2 years of age and less are admitted without charge. Children between 3 and 12 years of age cost $14.00. Seniors aged 65 years and over cost $18.00. Admission for all other guests is $23.00. \n",
    "Create a program that begins by reading the ages of all of the guests in a group from the user, with one age entered on each line. The user will enter a blank line to indicate that there are no more guests in the group. Then your program should display the admission cost for the group with an appropriate message. The cost should be displayed using two decimal places. "
   ]
  },
  {
   "cell_type": "code",
   "execution_count": 136,
   "metadata": {},
   "outputs": [
    {
     "name": "stdout",
     "output_type": "stream",
     "text": [
      "17\n",
      "17\n",
      "67\n",
      "\n",
      "64.0\n"
     ]
    }
   ],
   "source": [
    "def change(age):\n",
    "    if(age < 3):\n",
    "        return 0.0\n",
    "    if(age >=3 and age < 13):\n",
    "        return 14.0\n",
    "    if(age >=13 and age < 65):\n",
    "        return 23.0\n",
    "    if(age >= 65):\n",
    "        return 18.0\n",
    "    if(age == ''):\n",
    "        return 0.0\n",
    "l1 = []\n",
    "result = 0.0\n",
    "count = 0\n",
    "while True:\n",
    "    a = input()\n",
    "    if a =='':\n",
    "        print(result)\n",
    "        break\n",
    "    b = int(a)\n",
    "    c = change(b)\n",
    "    l1.append(c)\n",
    "    d= l1[count]\n",
    "    result = result + d\n",
    "    count = count +1\n",
    "    \n",
    "   \n"
   ]
  },
  {
   "cell_type": "markdown",
   "metadata": {},
   "source": [
    "# Is a String a Palindome? \n",
    "(Solved—23 Lines) \n",
    "A string is a palindrome if it is identical forward and backward. For example “anna”, “civic”, “level” and “hannah” are all examples of palindromic words. Write a program that reads a string from the user and uses a loop to determines whether or not it is a palindrome. Display the result, including a meaningful output message."
   ]
  },
  {
   "cell_type": "code",
   "execution_count": 68,
   "metadata": {},
   "outputs": [
    {
     "name": "stdout",
     "output_type": "stream",
     "text": [
      "abcba\n",
      "This is palindromic words\n"
     ]
    }
   ],
   "source": [
    "l1 = []\n",
    "a = input()\n",
    "l2 = list(a)\n",
    "count_1 = 0\n",
    "if len(l2)%2 == 0:\n",
    "    b = len(l2)/2\n",
    "    c = int(b)\n",
    "    for i in range(c):\n",
    "        d= len(l2)-i-1\n",
    "        if l2[i] == l2[d]:\n",
    "            count = 0\n",
    "        else:\n",
    "            count = count +1\n",
    "    if count == 0:\n",
    "        print(\"This is palindromic words\")\n",
    "    else:\n",
    "        print(\"This is not palindromic words\")\n",
    "    \n",
    "else:\n",
    "    b = len(l2)/2\n",
    "    c = int(b)\n",
    "    for i in range(c):\n",
    "        d= len(l2)-i-1\n",
    "        if l2[i] == l2[d]:\n",
    "            count_1 = 0\n",
    "        else:\n",
    "            count_1 = count_1+1\n",
    "    if count_1 == 0:\n",
    "        print(\"This is palindromic words\")\n",
    "    else:\n",
    "        print(\"This is not palindromic words\")"
   ]
  },
  {
   "cell_type": "markdown",
   "metadata": {},
   "source": [
    "# Multiplication Table\n",
    "In this exercise you will create a program that displays a multiplication table that shows the products of all combinations of integers from 1 times 1 up to and including 10 times 10. Your multiplication table should include a row of labels across the top of it containing the numbers 1 through 10. It should also include labels down the left side consisting of the numbers 1 through 10. The expected output from the program is shown below: "
   ]
  },
  {
   "cell_type": "code",
   "execution_count": 323,
   "metadata": {},
   "outputs": [
    {
     "name": "stdout",
     "output_type": "stream",
     "text": [
      " 1 2 3 4 5 6 7 8 9 10\n",
      "\n",
      " 2 4 6 8 10 12 14 16 18 20\n",
      "\n",
      " 3 6 9 12 15 18 21 24 27 30\n",
      "\n",
      " 4 8 12 16 20 24 28 32 36 40\n",
      "\n",
      " 5 10 15 20 25 30 35 40 45 50\n",
      "\n",
      " 6 12 18 24 30 36 42 48 54 60\n",
      "\n",
      " 7 14 21 28 35 42 49 56 63 70\n",
      "\n",
      " 8 16 24 32 40 48 56 64 72 80\n",
      "\n",
      " 9 18 27 36 45 54 63 72 81 90\n",
      "\n",
      " 10 20 30 40 50 60 70 80 90 100\n",
      "\n"
     ]
    }
   ],
   "source": [
    "for i in range(10):\n",
    "    for j in range(10):\n",
    "        print(\"\",(i+1)*(j+1), end=\"\")\n",
    "    print(\"\\n\")"
   ]
  },
  {
   "cell_type": "markdown",
   "metadata": {},
   "source": [
    "# Greatest Common Divisor\n",
    "The greatest common divisor of two positive integers, n and m, is the largest number, d, which divides evenly into both n and m. There are several algorithms that can be used to solve this problem, including: \n",
    "Initialize d to  the  smaller  of m and n. \n",
    "While d does not  evenly  divide m or  d does not  evenly  divide n do \n",
    "Decrease the  value  of  d by 1 \n",
    "Report d as the  greatest  common divisor  of n and m \n",
    "Write a program that reads two positive integers from the user and uses this algorithm to  determine  and report  their  greatest  common divisor. "
   ]
  },
  {
   "cell_type": "code",
   "execution_count": 266,
   "metadata": {},
   "outputs": [
    {
     "name": "stdout",
     "output_type": "stream",
     "text": [
      "60\n",
      "48\n",
      "최대공약수는 : 12\n"
     ]
    }
   ],
   "source": [
    "a = input()\n",
    "b = input()\n",
    "\n",
    "m = int(a)\n",
    "n = int(b)\n",
    "if (m>n):\n",
    "    d = n\n",
    "else:\n",
    "    d = m\n",
    "    if(m==n):\n",
    "        print(\"Error!\")\n",
    "while True:\n",
    "    check_1 = m%d\n",
    "    check_2 = n%d\n",
    "    if(check_1==0 and check_2==0):\n",
    "        print(\"최대공약수는 :\",d)\n",
    "        break\n",
    "    else:\n",
    "        d = d-1\n",
    "        \n",
    "    "
   ]
  },
  {
   "cell_type": "code",
   "execution_count": 258,
   "metadata": {},
   "outputs": [
    {
     "data": {
      "text/plain": [
       "int"
      ]
     },
     "execution_count": 258,
     "metadata": {},
     "output_type": "execute_result"
    }
   ],
   "source": [
    "type(m)"
   ]
  },
  {
   "cell_type": "markdown",
   "metadata": {},
   "source": [
    "# Binary to Decimal\n",
    "\n",
    "Write a program that converts a binary (base 2) number to decimal (base 10). Your program should begin by reading the binary number from the user as a string. Then it should compute the equivalent decimal number by processing each digit in the binary number. Finally, your program should display the equivalent decimal number with an appropriate message. "
   ]
  },
  {
   "cell_type": "code",
   "execution_count": 251,
   "metadata": {},
   "outputs": [
    {
     "name": "stdout",
     "output_type": "stream",
     "text": [
      "111010\n",
      "58\n"
     ]
    }
   ],
   "source": [
    "l1 = []\n",
    "a = input()\n",
    "b = list(a)\n",
    "result = 0\n",
    "for i in range(len(b)):\n",
    "    result = result + pow(2,i)*int(b[len(b)-i-1])\n",
    "\n",
    "print(result)"
   ]
  },
  {
   "cell_type": "markdown",
   "metadata": {},
   "source": [
    "# Decimal to Binary\n",
    "(Solved—26 Lines) \n",
    "Write a program that converts a decimal (base 10) number to binary (base 2). Read the decimal number from the user as an integer and then use the division algorithm shown below to perform the conversion. When the algorithm completes, result contains the binary representation of the number. Display the result, along with an appropriate message. \n",
    "Let  result be an empty string \n",
    "Let q represent  the number  to convert \n",
    "repeat \n",
    "Set r equal  to the remainder  when q is divided by  2 \n",
    "Convert r to a  string and  add  it  to the beginning  of result \n",
    "Divide q by 2, discarding any  remainder, and store  the result  back into q until q is 0 "
   ]
  },
  {
   "cell_type": "code",
   "execution_count": 290,
   "metadata": {},
   "outputs": [
    {
     "name": "stdout",
     "output_type": "stream",
     "text": [
      "14\n",
      "1110"
     ]
    }
   ],
   "source": [
    "result = []\n",
    "q = input()\n",
    "r = 0\n",
    "count=0\n",
    "while True:\n",
    "    r = int(q)%2\n",
    "    result.append(r)\n",
    "    q = int(q)/2\n",
    "    count = count +1\n",
    "    if (q == 0.5):\n",
    "        break\n",
    "for i  in range(len(result)):\n",
    "    print(result[len(result)-i-1], end=\"\")"
   ]
  }
 ],
 "metadata": {
  "kernelspec": {
   "display_name": "Python 3",
   "language": "python",
   "name": "python3"
  },
  "language_info": {
   "codemirror_mode": {
    "name": "ipython",
    "version": 3
   },
   "file_extension": ".py",
   "mimetype": "text/x-python",
   "name": "python",
   "nbconvert_exporter": "python",
   "pygments_lexer": "ipython3",
   "version": "3.6.5"
  }
 },
 "nbformat": 4,
 "nbformat_minor": 2
}
