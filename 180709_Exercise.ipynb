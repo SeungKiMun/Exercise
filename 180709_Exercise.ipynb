{
 "cells": [
  {
   "cell_type": "markdown",
   "metadata": {},
   "source": [
    "# Exercise 129: Two Dice Simulation\n",
    "In this exercise you will simulate 1,000 rolls of two dice. Begin by writing a function that simulates rolling a pair of six-sided dice. Your function will not take any parameters. It will return the total that was rolled on two dice as its only result. \n",
    "Write a main program that uses your function to simulate rolling two six-sided dice 1,000 times. As your program runs, it should count the number of times that each total occurs. Then it should display a table that summarizes this data. Express the frequency for each total as a percentage of the total number of rolls. Your program should also display the percentage expected by probability theory for each total. Sample output is shown below."
   ]
  },
  {
   "cell_type": "code",
   "execution_count": 193,
   "metadata": {},
   "outputs": [
    {
     "name": "stdout",
     "output_type": "stream",
     "text": [
      "Total       Simulated    Expected\n",
      "            Persent      Percent\n",
      "  2            2.80         2.78\n",
      "  3            5.30         5.56\n",
      "  4            7.60         8.33\n",
      "  5           10.50        11.11\n",
      "  6           14.70        13.89\n",
      "  7           17.10        16.67\n",
      "  8           13.40        13.89\n",
      "  9           12.00        11.11\n",
      " 10            7.90         8.33\n",
      " 11            4.50         5.56\n",
      " 12            4.20         2.78\n"
     ]
    }
   ],
   "source": [
    "import random\n",
    "def rand():\n",
    "    a = random.randrange(1,7)\n",
    "    b = random.randrange(1,7)\n",
    "    return a+b\n",
    "        \n",
    "expect = {2: 1/36, 3: 2/36, 4: 3/36, 5: 4/36, 6: 5/36, 7: 6/36, 8: 5/36, 9: 4/36, 10: 3/36, 11: 2/36, 12: 1/36 }\n",
    "count = {2:0, 3:0, 4:0, 5:0, 6:0, 7:0, 8:0, 9:0, 10:0, 11:0, 12:0}\n",
    "for i in range(1000):\n",
    "    c = rand()\n",
    "    count[c] = count[c] + 1\n",
    "print(\"Total       Simulated    Expected\")\n",
    "print(\"            Persent      Percent\")\n",
    "\n",
    "for i in sorted(count.keys()):\n",
    "    print(\"%3d %15.2f     %8.2f\" % (i, count[i] / 1000*100, expect[i] *100))"
   ]
  },
  {
   "cell_type": "markdown",
   "metadata": {},
   "source": [
    "# Exercise 130: Text Messaging \n",
    "\n",
    "(21 Lines) \n",
    "On some basic cell phones, text messages can be sent using the numeric keypad. Because each key has multiple letters associated with it, multiple key presses are needed for most letters. Pressing the number once generates the ﬁrst letter on the key. Pressing the number 2, 3, 4 or 5 times generates the second, third, fourth or ﬁfth character listed for that key. \n",
    "Write a program that displays the key presses that must be made to enter a text message read from the user. Construct a dictionary that maps from each letter or symbol to the key presses. Then use the dictionary to generate and display the presses for the user’s message. For example, if the user enters Hello, World!then your program should output 4433555555666110966677755531111. Ensure that your program handles both uppercase and lowercase letters. Ignore any characters that aren’t listed in the table above such as semicolons and brackets. "
   ]
  },
  {
   "cell_type": "code",
   "execution_count": 265,
   "metadata": {},
   "outputs": [
    {
     "name": "stdout",
     "output_type": "stream",
     "text": [
      "99942\n",
      " Y G"
     ]
    },
    {
     "ename": "IndexError",
     "evalue": "list index out of range",
     "output_type": "error",
     "traceback": [
      "\u001b[1;31m---------------------------------------------------------------------------\u001b[0m",
      "\u001b[1;31mIndexError\u001b[0m                                Traceback (most recent call last)",
      "\u001b[1;32m<ipython-input-265-b67826136fcd>\u001b[0m in \u001b[0;36m<module>\u001b[1;34m()\u001b[0m\n\u001b[0;32m      6\u001b[0m \u001b[0mkey\u001b[0m \u001b[1;33m=\u001b[0m \u001b[1;33m{\u001b[0m\u001b[1;34m'1'\u001b[0m\u001b[1;33m:\u001b[0m\u001b[1;34m'.,?!:'\u001b[0m\u001b[1;33m,\u001b[0m \u001b[1;34m'2'\u001b[0m\u001b[1;33m:\u001b[0m\u001b[1;34m'ABC'\u001b[0m\u001b[1;33m,\u001b[0m\u001b[1;34m'3'\u001b[0m\u001b[1;33m:\u001b[0m\u001b[1;34m'DEF'\u001b[0m\u001b[1;33m,\u001b[0m\u001b[1;34m'4'\u001b[0m\u001b[1;33m:\u001b[0m\u001b[1;34m'GHI'\u001b[0m\u001b[1;33m,\u001b[0m\u001b[1;34m'5'\u001b[0m\u001b[1;33m:\u001b[0m\u001b[1;34m'JKL'\u001b[0m\u001b[1;33m,\u001b[0m\u001b[1;34m'6'\u001b[0m\u001b[1;33m:\u001b[0m\u001b[1;34m'MNO'\u001b[0m\u001b[1;33m,\u001b[0m\u001b[1;34m'7'\u001b[0m\u001b[1;33m:\u001b[0m\u001b[1;34m'PQRS'\u001b[0m\u001b[1;33m,\u001b[0m\u001b[1;34m'8'\u001b[0m\u001b[1;33m:\u001b[0m\u001b[1;34m'TUV'\u001b[0m\u001b[1;33m,\u001b[0m\u001b[1;34m'9'\u001b[0m\u001b[1;33m:\u001b[0m\u001b[1;34m'WXYZ'\u001b[0m\u001b[1;33m,\u001b[0m\u001b[1;34m'0'\u001b[0m\u001b[1;33m:\u001b[0m\u001b[1;34m''\u001b[0m\u001b[1;33m}\u001b[0m\u001b[1;33m\u001b[0m\u001b[0m\n\u001b[0;32m      7\u001b[0m \u001b[1;32mfor\u001b[0m \u001b[0mi\u001b[0m \u001b[1;32min\u001b[0m \u001b[0mrange\u001b[0m\u001b[1;33m(\u001b[0m\u001b[0mlen\u001b[0m\u001b[1;33m(\u001b[0m\u001b[0ma\u001b[0m\u001b[1;33m)\u001b[0m\u001b[1;33m)\u001b[0m\u001b[1;33m:\u001b[0m\u001b[1;33m\u001b[0m\u001b[0m\n\u001b[1;32m----> 8\u001b[1;33m     \u001b[1;32mif\u001b[0m \u001b[0mb\u001b[0m\u001b[1;33m[\u001b[0m\u001b[0mi\u001b[0m\u001b[1;33m]\u001b[0m \u001b[1;33m==\u001b[0m \u001b[0mb\u001b[0m\u001b[1;33m[\u001b[0m\u001b[0mi\u001b[0m\u001b[1;33m+\u001b[0m\u001b[1;36m1\u001b[0m\u001b[1;33m]\u001b[0m\u001b[1;33m:\u001b[0m\u001b[1;33m\u001b[0m\u001b[0m\n\u001b[0m\u001b[0;32m      9\u001b[0m         \u001b[0mcount\u001b[0m \u001b[1;33m=\u001b[0m \u001b[0mcount\u001b[0m \u001b[1;33m+\u001b[0m\u001b[1;36m1\u001b[0m\u001b[1;33m\u001b[0m\u001b[0m\n\u001b[0;32m     10\u001b[0m     \u001b[1;32melse\u001b[0m\u001b[1;33m:\u001b[0m\u001b[1;33m\u001b[0m\u001b[0m\n",
      "\u001b[1;31mIndexError\u001b[0m: list index out of range"
     ]
    }
   ],
   "source": [
    "l1 = []\n",
    "a = input()\n",
    "l1.append(a)\n",
    "b = list(a)\n",
    "count = 0\n",
    "key = {'1':'.,?!:', '2':'ABC','3':'DEF','4':'GHI','5':'JKL','6':'MNO','7':'PQRS','8':'TUV','9':'WXYZ','0':''}\n",
    "for i in range(len(a)):\n",
    "    if b[i] == b[i+1]:\n",
    "        count = count +1\n",
    "    else:\n",
    "        print('',key[b[i]][count],end='')\n",
    "        count = 0"
   ]
  },
  {
   "cell_type": "markdown",
   "metadata": {},
   "source": [
    "# Exercise 131: Morse Code \n",
    "(15 Lines) \n",
    "Morse code is an encoding scheme that uses dashes and dots to represent numbers and letters. In this exercise, you will write a program that uses a dictionary to store the mapping from letters and numbers to Morse code. Use a period to represent a dot, and a hyphen to represent a dash. The mapping from letters and numbers to dashes and dots is shown in Table 6.1. \n",
    "Your program should read a message from the user. Then it should translate each letter and number in the message to Morse code, leaving a space between each sequence of dashes and dots. Your program should ignore any characters that are not letters or numbers. The Morse code for Hello, World!is shown below: \n",
    ".... . .-.. .-.. --- .-- --- .-. .-.. -.. \n",
    "Morse code was originally developed in the nineteenth century for use over telegraph wires. It is still used today, over 160 years after it was ﬁrst created. "
   ]
  },
  {
   "cell_type": "code",
   "execution_count": 230,
   "metadata": {},
   "outputs": [
    {
     "name": "stdout",
     "output_type": "stream",
     "text": [
      "HELLO\n",
      "......-...-..---"
     ]
    }
   ],
   "source": [
    "l1 = []\n",
    "a = input()\n",
    "l1.append(a)\n",
    "b = list(a)\n",
    "\n",
    "morse = {\"A\": '.-', 'B':'-...', 'C':'-.-.', 'D':'-..','E':'.','F':'..-.','G':'--.','H':'....','I':'..','J':'.---','K':'-.-','L':'.-..','O':'---','P':'.--.','Q':'--.-'}\n",
    "\n",
    "# 편의상 O까지만 선언했음.\n",
    "for i in range(len(b)):\n",
    "        print(morse[b[i]], end=\"\")\n"
   ]
  },
  {
   "cell_type": "code",
   "execution_count": 210,
   "metadata": {},
   "outputs": [
    {
     "data": {
      "text/plain": [
       "dict"
      ]
     },
     "execution_count": 210,
     "metadata": {},
     "output_type": "execute_result"
    }
   ],
   "source": [
    "type(morse)"
   ]
  },
  {
   "cell_type": "markdown",
   "metadata": {},
   "source": [
    "# Exercise 132: Postal Codes \n",
    "(24 Lines) \n",
    "In a Canadian postal code, the ﬁrst, third and ﬁfth characters are letters while the second, fourth and sixth characters are numbers. The province can be determined from the ﬁrst character of a postal code, as shown in the following table. No valid postal codes currently begin with D, F, I, O, Q, U, W, or Z.\n",
    "The  second  character  in  a  postal  code  identiﬁes  whether  the  address  is  rural  or urban. If  that character  is  a  0 then the  address  is  rural.  Otherwise it  is  urban. \n",
    "Create a program that reads a postal code from the user and displays the province associated with it, along with whether the address is urban or rural. For example, if the user enters T2N 1N4then your program should indicate that the postal code is for an urban address in Alberta. If the user enters X0A 1B2then your program should indicate that the postal code is for a rural address in Nunavut or Northwest Territories. Use a dictionary to map from the ﬁrst character of the postal code to the province name. Display a meaningful error message if the postal code begins with an invalid character. "
   ]
  },
  {
   "cell_type": "code",
   "execution_count": 249,
   "metadata": {},
   "outputs": [
    {
     "name": "stdout",
     "output_type": "stream",
     "text": [
      "A2C F\n",
      "urban address in Newfoundland\n"
     ]
    }
   ],
   "source": [
    "l1 = []\n",
    "a= input()\n",
    "l1.append(a)\n",
    "b = list(a)\n",
    "\n",
    "province = {'A':'Newfoundland', 'B':'Nova Scotia', 'C':'Prince Edward Island', 'E':'New Brunswick', 'G':'Quebec','H':'Quebec','J':'Quebec'\n",
    "           ,'K':'Ontario', 'L':'Ontario','M':'Ontario','N':'Ontario','P':'Ontario','R':'Manitoba','S':'Saskatchewan','T':'Alberta'\n",
    "            ,'V':'British Columbia','X':'Nunavut or Northwest Territories','Y':'Yukon'}\n",
    "\n",
    "if b[1] == 0:\n",
    "    print('rural address ', end=\"\")\n",
    "else:\n",
    "    print('urban address ', end=\"\")\n",
    "\n",
    "#for i in range(len(province))\n",
    "#    if b[i] 예외처리!!\n",
    "print('in', province[b[0]])\n",
    "\n"
   ]
  },
  {
   "cell_type": "code",
   "execution_count": null,
   "metadata": {},
   "outputs": [],
   "source": []
  }
 ],
 "metadata": {
  "kernelspec": {
   "display_name": "Python 3",
   "language": "python",
   "name": "python3"
  },
  "language_info": {
   "codemirror_mode": {
    "name": "ipython",
    "version": 3
   },
   "file_extension": ".py",
   "mimetype": "text/x-python",
   "name": "python",
   "nbconvert_exporter": "python",
   "pygments_lexer": "ipython3",
   "version": "3.6.5"
  }
 },
 "nbformat": 4,
 "nbformat_minor": 2
}
