{
 "cells": [
  {
   "cell_type": "markdown",
   "metadata": {},
   "source": [
    "# Reverse Order"
   ]
  },
  {
   "cell_type": "code",
   "execution_count": 110,
   "metadata": {},
   "outputs": [
    {
     "name": "stdout",
     "output_type": "stream",
     "text": [
      "132\n",
      "536\n",
      "445\n",
      "88\n",
      "0\n",
      "\n",
      "\n",
      "231\n",
      "635\n",
      "544\n",
      "88\n"
     ]
    }
   ],
   "source": [
    "list=[]\n",
    "for i in range(999):\n",
    "    a = input()\n",
    "    list.append(a)\n",
    "    if(int(list[i])==0):\n",
    "        list.remove(a)\n",
    "        break\n",
    "print(\"\\n\")\n",
    "for i in range(len(list)):\n",
    "    print(list[i][::-1])"
   ]
  },
  {
   "cell_type": "markdown",
   "metadata": {},
   "source": [
    "# Avoiding Duplicates"
   ]
  },
  {
   "cell_type": "code",
   "execution_count": 114,
   "metadata": {},
   "outputs": [
    {
     "name": "stdout",
     "output_type": "stream",
     "text": [
      "first\n",
      "second\n",
      "first\n",
      "third\n",
      "second\n",
      "\n",
      "\n",
      "first\n",
      "second\n",
      "third\n"
     ]
    }
   ],
   "source": [
    "l1=[]\n",
    "for i in range(5):\n",
    "    a = input()\n",
    "    l1.append(a) \n",
    "\n",
    "s1 = set(l1)\n",
    "l2 = list(s1)\n",
    "\n",
    "print(\"\\n\")\n",
    "for i in range(len(l2)):\n",
    "    print(l2[i])"
   ]
  },
  {
   "cell_type": "markdown",
   "metadata": {},
   "source": [
    "# Negatives, Zeros, Positives"
   ]
  },
  {
   "cell_type": "code",
   "execution_count": 205,
   "metadata": {},
   "outputs": [
    {
     "name": "stdout",
     "output_type": "stream",
     "text": [
      "3\n",
      "-4\n",
      "1\n",
      "0\n",
      "-1\n",
      "0\n",
      "-2\n",
      "\n",
      "\n",
      "-4\n",
      "-1\n",
      "-2\n",
      "0\n",
      "0\n",
      "3\n",
      "1\n"
     ]
    }
   ],
   "source": [
    "list = []\n",
    "minus = []\n",
    "zero = []\n",
    "plus= []\n",
    "for i in range(7):\n",
    "    a = input()\n",
    "    list.append(a)\n",
    "    \n",
    "for i in range(7):\n",
    "    if int(list[i])<0:\n",
    "        minus.append(list[i])     \n",
    "    if int(list[i])==0:\n",
    "        zero.append(list[i])\n",
    "    if int(list[i])>0:\n",
    "        plus.append(list[i])\n",
    "\n",
    "print('\\n')\n",
    "for i in range(len(minus)):\n",
    "    print(minus[i])\n",
    "for i in range(len(zero)):\n",
    "    print(zero[i])\n",
    "for i in range(len(plus)):\n",
    "    print(plus[i])"
   ]
  },
  {
   "cell_type": "markdown",
   "metadata": {},
   "source": [
    "#### Perfect Numbers"
   ]
  },
  {
   "cell_type": "code",
   "execution_count": 6,
   "metadata": {},
   "outputs": [
    {
     "name": "stdout",
     "output_type": "stream",
     "text": [
      "496\n",
      "true\n"
     ]
    }
   ],
   "source": [
    "l1 = []\n",
    "a = input()\n",
    "b = int(a)\n",
    "count = 0\n",
    "for i in range(10000):\n",
    "    sum = 0\n",
    "    for j in range (1,i):\n",
    "        if i%j ==0:\n",
    "            sum += j\n",
    "    if sum == i:\n",
    "        l1.append(i)\n",
    "\n",
    "for k in range(len(l1)):\n",
    "    if b == l1[k]:\n",
    "        print('true')\n",
    "        break\n",
    "else:\n",
    "    print(\"false\")"
   ]
  },
  {
   "cell_type": "markdown",
   "metadata": {},
   "source": [
    "# Formatting a List"
   ]
  },
  {
   "cell_type": "markdown",
   "metadata": {},
   "source": [
    "# Random Lottery Numbers"
   ]
  },
  {
   "cell_type": "code",
   "execution_count": 115,
   "metadata": {},
   "outputs": [
    {
     "name": "stdout",
     "output_type": "stream",
     "text": [
      "[1, 4, 15, 33, 35, 43]\n"
     ]
    }
   ],
   "source": [
    "from random import *\n",
    "l1 = []\n",
    "l2 = []\n",
    "while len(l1)!=6:\n",
    "    num = randint (1, 49)\n",
    "    l1.append(num)\n",
    "    s1 = set(l1)\n",
    "    l1 = list(s1)\n",
    "    if len(s1)!=len(l1):\n",
    "            l1.remove        \n",
    "   \n",
    "    l1.sort()\n",
    "print(l1)"
   ]
  },
  {
   "cell_type": "markdown",
   "metadata": {},
   "source": [
    "# Unique Characters"
   ]
  },
  {
   "cell_type": "code",
   "execution_count": 201,
   "metadata": {},
   "outputs": [
    {
     "name": "stdout",
     "output_type": "stream",
     "text": [
      "Hello, world!\n",
      "10\n"
     ]
    }
   ],
   "source": [
    "a = input()\n",
    "l1 = list(a)\n",
    "s1 = set(l1)\n",
    "b = len(s1)\n",
    "print(b)\n"
   ]
  },
  {
   "cell_type": "markdown",
   "metadata": {},
   "source": [
    "# Anagrams"
   ]
  },
  {
   "cell_type": "code",
   "execution_count": 193,
   "metadata": {},
   "outputs": [
    {
     "name": "stdout",
     "output_type": "stream",
     "text": [
      "evil\n",
      "live\n",
      "This is Anagrams\n"
     ]
    }
   ],
   "source": [
    "a = input()\n",
    "l1 = list(a)\n",
    "b = input()\n",
    "l2 = list(b)\n",
    "count = 0\n",
    "l1.sort()\n",
    "l2.sort()\n",
    "\n",
    "if len(a) == len(b):\n",
    "    for i in range(len(a)):\n",
    "        if l1[i] != l2[i]:\n",
    "            count=count+1\n",
    "    if count == 0:\n",
    "        print(\"This is Anagrams\")\n",
    "else:\n",
    "    print(\"Try again\")"
   ]
  }
 ],
 "metadata": {
  "kernelspec": {
   "display_name": "Python 3",
   "language": "python",
   "name": "python3"
  },
  "language_info": {
   "codemirror_mode": {
    "name": "ipython",
    "version": 3
   },
   "file_extension": ".py",
   "mimetype": "text/x-python",
   "name": "python",
   "nbconvert_exporter": "python",
   "pygments_lexer": "ipython3",
   "version": "3.6.5"
  }
 },
 "nbformat": 4,
 "nbformat_minor": 2
}
